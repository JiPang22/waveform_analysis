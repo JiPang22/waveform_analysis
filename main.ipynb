import numpy as np
import pandas as pd
from PyEMD import EMD
import matplotlib.pyplot as plt

# CSV 파일 불러오기
file_path = 'C1Trace00001.csv'  # 파일 경로를 적절히 변경하세요.
data = pd.read_csv(file_path)

# 열 이름 설정
data.columns = ['Time', 'Voltage']

# 음수 시간 데이터 제거
filtered_data = data[data['Time'] >= 0].reset_index(drop=True)

# 시간과 전압 데이터 추출
time = filtered_data['Time'].to_numpy()
voltage = filtered_data['Voltage'].to_numpy()

# EMD 수행
emd = EMD()
imfs = emd.emd(voltage)  # EMD 수행: emd(voltage)가 아닌 emd.emd(voltage)로 수정

# IMF 시각화
plt.figure(figsize=(10, 8))
for i in range(imfs.shape[0]):
    plt.subplot(imfs.shape[0], 1, i + 1)
    plt.plot(time, imfs[i])
    plt.title(f'IMF {i+1}')
plt.tight_layout()
plt.show()


