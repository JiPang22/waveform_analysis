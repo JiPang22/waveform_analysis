{
 "cells": [
  {
   "cell_type": "code",
   "execution_count": null,
   "id": "41988e85-d6f1-4f12-bb4d-420cf61616ba",
   "metadata": {},
   "outputs": [],
   "source": [
    "import pandas as pd\n",
    "import matplotlib.pyplot as plt\n",
    "\n",
    "# Load the data from the file\n",
    "file_path = '/mnt/data/C2Trace00000.txt'\n",
    "\n",
    "# Since the file seems to contain unnecessary header information, we'll skip those rows and load the relevant data\n",
    "data = pd.read_csv(file_path, skiprows=8, header=None, names=[\"Time\", \"Amplitude\"])\n",
    "\n",
    "# Plotting the time series data\n",
    "plt.figure(figsize=(10, 6))\n",
    "plt.plot(data[\"Time\"], data[\"Amplitude\"], color='blue')\n",
    "plt.title(\"Time Series Data\")\n",
    "plt.xlabel(\"Time (s)\")\n",
    "plt.ylabel(\"Amplitude\")\n",
    "plt.grid(True)\n",
    "plt.show()"
   ]
  }
 ],
 "metadata": {
  "kernelspec": {
   "display_name": "Python 3 (ipykernel)",
   "language": "python",
   "name": "python3"
  },
  "language_info": {
   "codemirror_mode": {
    "name": "ipython",
    "version": 3
   },
   "file_extension": ".py",
   "mimetype": "text/x-python",
   "name": "python",
   "nbconvert_exporter": "python",
   "pygments_lexer": "ipython3",
   "version": "3.12.4"
  }
 },
 "nbformat": 4,
 "nbformat_minor": 5
}
